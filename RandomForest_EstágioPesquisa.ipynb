{
  "nbformat": 4,
  "nbformat_minor": 0,
  "metadata": {
    "colab": {
      "provenance": [],
      "authorship_tag": "ABX9TyMnTppv4o3HADXWbkDp9xqf",
      "include_colab_link": true
    },
    "kernelspec": {
      "name": "python3",
      "display_name": "Python 3"
    },
    "language_info": {
      "name": "python"
    }
  },
  "cells": [
    {
      "cell_type": "markdown",
      "metadata": {
        "id": "view-in-github",
        "colab_type": "text"
      },
      "source": [
        "<a href=\"https://colab.research.google.com/github/Minorito/RandomForest_MusicGenreRecognition/blob/main/RandomForest_Est%C3%A1gioPesquisa.ipynb\" target=\"_parent\"><img src=\"https://colab.research.google.com/assets/colab-badge.svg\" alt=\"Open In Colab\"/></a>"
      ]
    },
    {
      "cell_type": "code",
      "execution_count": null,
      "metadata": {
        "id": "kBdnm7VsyNJ0"
      },
      "outputs": [],
      "source": [
        "import os\n",
        "import numpy as np\n",
        "import pandas as pd\n",
        "import matplotlib.pyplot as plt\n",
        "from matplotlib import cm, colors\n",
        "from matplotlib.colors import ListedColormap\n",
        "%matplotlib inline\n",
        "import seaborn as sns\n",
        "sns.set_style('whitegrid')\n",
        "import warnings\n",
        "warnings.filterwarnings('ignore')\n",
        "from scipy.stats import uniform, randint, mode\n",
        "import tensorflow as tf\n",
        "import tensorflow.python.keras as k\n",
        "from sklearn.ensemble import AdaBoostClassifier, GradientBoostingClassifier, RandomForestClassifier\n",
        "from sklearn.model_selection import train_test_split, KFold, StratifiedKFold\n",
        "from sklearn.preprocessing import minmax_scale, MinMaxScaler, LabelEncoder, StandardScaler\n",
        "from sklearn.metrics import accuracy_score, confusion_matrix, classification_report\n",
        "from keras.callbacks import EarlyStopping, ModelCheckpoint\n",
        "from IPython.display import display\n",
        "from tqdm import tqdm\n",
        "import random\n",
        "from sklearn.model_selection import KFold"
      ]
    },
    {
      "cell_type": "code",
      "source": [
        "seed = 42\n",
        "random.seed = seed\n",
        "np.random.seed(seed)\n",
        "tf.random.set_seed(seed)"
      ],
      "metadata": {
        "id": "xuTSNjuZ0gSc"
      },
      "execution_count": null,
      "outputs": []
    },
    {
      "cell_type": "code",
      "source": [
        "from google.colab import drive\n",
        "drive.mount('/content/drive/')"
      ],
      "metadata": {
        "colab": {
          "base_uri": "https://localhost:8080/"
        },
        "id": "JYJob2jnzRAq",
        "outputId": "74221b68-784d-4a42-a856-90d56b94c1f5"
      },
      "execution_count": null,
      "outputs": [
        {
          "output_type": "stream",
          "name": "stdout",
          "text": [
            "Mounted at /content/drive/\n"
          ]
        }
      ]
    },
    {
      "cell_type": "code",
      "source": [
        "data = pd.read_csv('/content/drive/My Drive/musicas/datasets/Data/features_3_sec.csv')\n",
        "print(\"Dataset has\", data.shape)\n",
        "data.head()\n",
        "genres = [\"blues\", \"classical\", \"country\", \"disco\", \"hiphop\", \"jazz\", \"metal\", \"pop\", \"reggae\", \"rock\"]"
      ],
      "metadata": {
        "colab": {
          "base_uri": "https://localhost:8080/"
        },
        "id": "y4neCgaWzHW7",
        "outputId": "52d12770-621b-443d-fa08-0f5ab8cefbfc"
      },
      "execution_count": null,
      "outputs": [
        {
          "output_type": "stream",
          "name": "stdout",
          "text": [
            "Dataset has (9990, 60)\n"
          ]
        }
      ]
    },
    {
      "cell_type": "code",
      "source": [
        "label_encoder = LabelEncoder()\n",
        "labels = data['label']\n",
        "label_encoder.fit(labels)\n",
        "data.insert(60, 'label_id', 9999)\n",
        "data.insert(1, 'filename_full', '')\n",
        "for i in range(len(data)):\n",
        "    label = data.loc[i,'label']\n",
        "    label_id =label_encoder.transform([label])\n",
        "    data.loc[i,'label_id']=label_id.item()\n",
        "    data.loc[i,'filename_full']=str(data.loc[i,'filename']).split('.')[0]+\".\"+str(data.loc[i,'filename']).split('.')[1]+\".\"+str(data.loc[i,'filename']).split('.')[3]\n",
        "data['label_id']=data['label_id'].astype(int)"
      ],
      "metadata": {
        "id": "j89VyhY1zh5a"
      },
      "execution_count": null,
      "outputs": []
    },
    {
      "cell_type": "code",
      "source": [
        "X_full = data.drop(['filename','filename_full', 'length','label', 'label_id'], axis = 1)\n",
        "y_full = data['label_id'].astype('int')\n",
        "X_train, X_test, y_train, y_test = train_test_split(X_full, y_full, test_size=0.3, random_state = seed, shuffle = True)\n",
        "scaler = StandardScaler()\n",
        "X_train = pd.DataFrame(scaler.fit_transform(X_train), columns=X_train.columns)\n",
        "X_test = pd.DataFrame(scaler.transform(X_test), columns=X_test.columns)"
      ],
      "metadata": {
        "id": "hWH2Y-gUzltj"
      },
      "execution_count": null,
      "outputs": []
    },
    {
      "cell_type": "code",
      "source": [
        "acc_per_fold = []\n",
        "loss_per_fold = []\n",
        "num_folds = 10\n",
        "fold_no = 1"
      ],
      "metadata": {
        "id": "AlD4Q9Wx3uzi"
      },
      "execution_count": null,
      "outputs": []
    },
    {
      "cell_type": "code",
      "source": [
        "inputs = np.concatenate((X_train, X_test), axis=0)\n",
        "targets = np.concatenate((y_train, y_test), axis=0)"
      ],
      "metadata": {
        "id": "6HfyEA8a31hc"
      },
      "execution_count": null,
      "outputs": []
    },
    {
      "cell_type": "code",
      "source": [
        "kfold = KFold(n_splits=num_folds, shuffle=True)"
      ],
      "metadata": {
        "id": "VyZsUnF63iiS"
      },
      "execution_count": null,
      "outputs": []
    },
    {
      "cell_type": "code",
      "source": [
        "for train, test in kfold.split(inputs, targets):\n",
        "    model = RandomForestClassifier(random_state=seed, n_jobs=-1)\n",
        "\n",
        "    print('------------------------------------------------------------------------')\n",
        "    print(f'Training for fold {fold_no} ...')\n",
        "    model.fit(inputs[train],targets[train])\n",
        "    \n",
        "    acc_per_fold.append(model.score(inputs[test], targets[test]) * 100)\n",
        "    loss_per_fold.append(model.score(inputs[test], targets[test]))\n",
        "\n",
        "    fold_no = fold_no + 1"
      ],
      "metadata": {
        "id": "2HiNIUNW0tCc",
        "colab": {
          "base_uri": "https://localhost:8080/"
        },
        "outputId": "90b0d985-c3b8-4fb5-ec5f-9f38943340a8"
      },
      "execution_count": null,
      "outputs": [
        {
          "output_type": "stream",
          "name": "stdout",
          "text": [
            "------------------------------------------------------------------------\n",
            "Training for fold 1 ...\n",
            "------------------------------------------------------------------------\n",
            "Training for fold 2 ...\n",
            "------------------------------------------------------------------------\n",
            "Training for fold 3 ...\n",
            "------------------------------------------------------------------------\n",
            "Training for fold 4 ...\n",
            "------------------------------------------------------------------------\n",
            "Training for fold 5 ...\n",
            "------------------------------------------------------------------------\n",
            "Training for fold 6 ...\n",
            "------------------------------------------------------------------------\n",
            "Training for fold 7 ...\n",
            "------------------------------------------------------------------------\n",
            "Training for fold 8 ...\n",
            "------------------------------------------------------------------------\n",
            "Training for fold 9 ...\n",
            "------------------------------------------------------------------------\n",
            "Training for fold 10 ...\n"
          ]
        }
      ]
    },
    {
      "cell_type": "code",
      "source": [
        "    print('------------------------------------------------------------------------')\n",
        "    print('Score per fold')\n",
        "    for i in range(0, len(acc_per_fold)):\n",
        "      print('------------------------------------------------------------------------')\n",
        "      print(f'> Fold {i+1} - Loss: {loss_per_fold[i]} - Accuracy: {acc_per_fold[i]}%')\n",
        "\n",
        "    print('------------------------------------------------------------------------')\n",
        "    print('Average scores for all folds:')\n",
        "    print(f'> Accuracy: {np.mean(acc_per_fold)} (+- {np.std(acc_per_fold)})')\n",
        "    print(f'> Loss: {np.mean(loss_per_fold)}')\n",
        "    print('------------------------------------------------------------------------')    "
      ],
      "metadata": {
        "colab": {
          "base_uri": "https://localhost:8080/"
        },
        "id": "gV9gLDNT7evQ",
        "outputId": "62db7950-cbde-4182-ad17-e021ed42fc34"
      },
      "execution_count": null,
      "outputs": [
        {
          "output_type": "stream",
          "name": "stdout",
          "text": [
            "------------------------------------------------------------------------\n",
            "Score per fold\n",
            "------------------------------------------------------------------------\n",
            "> Fold 1 - Loss: 0.8668668668668669 - Accuracy: 86.68668668668668%\n",
            "------------------------------------------------------------------------\n",
            "> Fold 2 - Loss: 0.8828828828828829 - Accuracy: 88.28828828828829%\n",
            "------------------------------------------------------------------------\n",
            "> Fold 3 - Loss: 0.8648648648648649 - Accuracy: 86.48648648648648%\n",
            "------------------------------------------------------------------------\n",
            "> Fold 4 - Loss: 0.8618618618618619 - Accuracy: 86.18618618618619%\n",
            "------------------------------------------------------------------------\n",
            "> Fold 5 - Loss: 0.8958958958958959 - Accuracy: 89.5895895895896%\n",
            "------------------------------------------------------------------------\n",
            "> Fold 6 - Loss: 0.8878878878878879 - Accuracy: 88.78878878878879%\n",
            "------------------------------------------------------------------------\n",
            "> Fold 7 - Loss: 0.8718718718718719 - Accuracy: 87.18718718718719%\n",
            "------------------------------------------------------------------------\n",
            "> Fold 8 - Loss: 0.8758758758758759 - Accuracy: 87.58758758758759%\n",
            "------------------------------------------------------------------------\n",
            "> Fold 9 - Loss: 0.8788788788788788 - Accuracy: 87.88788788788789%\n",
            "------------------------------------------------------------------------\n",
            "> Fold 10 - Loss: 0.8848848848848849 - Accuracy: 88.48848848848849%\n",
            "------------------------------------------------------------------------\n",
            "Average scores for all folds:\n",
            "> Accuracy: 87.71771771771773 (+- 1.0403189148649596)\n",
            "> Loss: 0.8771771771771772\n",
            "------------------------------------------------------------------------\n"
          ]
        }
      ]
    },
    {
      "cell_type": "code",
      "source": [
        "y_pred_test = model.predict(inputs[test])\n",
        "cm = confusion_matrix(targets[test], y_pred_test)\n",
        "plt.figure(figsize = (20, 10))\n",
        "sns.heatmap(cm, cmap=\"flare\", annot=True, xticklabels = genres, yticklabels= genres);\n",
        "plt.show()"
      ],
      "metadata": {
        "colab": {
          "base_uri": "https://localhost:8080/",
          "height": 592
        },
        "id": "T4OWmz_O00Q9",
        "outputId": "b662e721-8994-4871-b132-9143b366aafc"
      },
      "execution_count": null,
      "outputs": [
        {
          "output_type": "display_data",
          "data": {
            "text/plain": [
              "<Figure size 1440x720 with 2 Axes>"
            ],
            "image/png": "[encoded data removed]"
          },
          "metadata": {}
        }
      ]
    },
    {
      "cell_type": "code",
      "source": [
        "matriz_total= np.sum(cm)\n",
        "print(f'Soma de todos elementos da matriz {matriz_total}')\n",
        "\n",
        "n = 10\n",
        "\n",
        "diagonal_principal = sum(cm[i][i] for i in range(n))\n",
        "print(f'Soma diagonal principal {diagonal_principal}')\n",
        "\n",
        "print(f'Matriz Confusão: {(diagonal_principal/matriz_total)*100}%')"
      ],
      "metadata": {
        "colab": {
          "base_uri": "https://localhost:8080/"
        },
        "id": "MkanUyfin1KT",
        "outputId": "a586076e-7059-44bc-dab0-eb6f96e90399"
      },
      "execution_count": null,
      "outputs": [
        {
          "output_type": "stream",
          "name": "stdout",
          "text": [
            "Soma de todos elementos da matriz 999\n",
            "Soma diagonal principal 884\n",
            "Matriz Confusão: 88.48848848848849%\n"
          ]
        }
      ]
    },
    {
      "cell_type": "code",
      "source": [
        "print(classification_report(targets[test], y_pred_test, digits=3, target_names=genres))"
      ],
      "metadata": {
        "colab": {
          "base_uri": "https://localhost:8080/"
        },
        "id": "1aUA0Z5hXdZK",
        "outputId": "261c98f6-56c9-4e3e-d025-c8c369e5db54"
      },
      "execution_count": null,
      "outputs": [
        {
          "output_type": "stream",
          "name": "stdout",
          "text": [
            "              precision    recall  f1-score   support\n",
            "\n",
            "       blues      0.886     0.903     0.894       103\n",
            "   classical      0.935     1.000     0.967       101\n",
            "     country      0.769     0.777     0.773       103\n",
            "       disco      0.888     0.864     0.876       110\n",
            "      hiphop      0.953     0.835     0.890        97\n",
            "        jazz      0.898     0.915     0.907       106\n",
            "       metal      0.856     0.989     0.918        90\n",
            "         pop      0.916     0.935     0.926        93\n",
            "      reggae      0.898     0.890     0.894       109\n",
            "        rock      0.853     0.736     0.790        87\n",
            "\n",
            "    accuracy                          0.885       999\n",
            "   macro avg      0.885     0.884     0.883       999\n",
            "weighted avg      0.885     0.885     0.884       999\n",
            "\n"
          ]
        }
      ]
    }
  ]
}